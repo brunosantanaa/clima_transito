{
 "cells": [
  {
   "cell_type": "markdown",
   "metadata": {},
   "source": [
    "# BaltarTec - Testes e Exemplos\n",
    "\n",
    "Utilizaremos este notebook para testar e simular aplicações dos métodos desenvolvidos por nós. Descrever ao máximo as etapadas dos testes para que todos possam acompanhar o processo de criação."
   ]
  },
  {
   "cell_type": "markdown",
   "metadata": {},
   "source": [
    "# Classes:\n",
    "\n",
    "## data\n",
    "\n",
    "#### Argumentos\n",
    "\n",
    "- **latitude**: Latitude do local a ser analizado\n",
    "- **longitude**: Latitude do local a ser analizado\n",
    "\n",
    "## Métodos:\n",
    "- [wazeScraping](#wazeScraping)\n",
    "- [clima](#clima)"
   ]
  },
  {
   "cell_type": "code",
   "execution_count": 1,
   "metadata": {},
   "outputs": [
    {
     "ename": "ImportError",
     "evalue": "cannot import name 'urlopen'",
     "output_type": "error",
     "traceback": [
      "\u001b[0;31m---------------------------------------------------------------------------\u001b[0m",
      "\u001b[0;31mImportError\u001b[0m                               Traceback (most recent call last)",
      "\u001b[0;32m<ipython-input-1-449c112ba732>\u001b[0m in \u001b[0;36m<module>\u001b[0;34m()\u001b[0m\n\u001b[1;32m      1\u001b[0m \u001b[0;34m\u001b[0m\u001b[0m\n\u001b[0;32m----> 2\u001b[0;31m \u001b[0;32mfrom\u001b[0m \u001b[0mbaltar_met\u001b[0m \u001b[0;32mimport\u001b[0m \u001b[0mdata\u001b[0m\u001b[0;34m\u001b[0m\u001b[0m\n\u001b[0m\u001b[1;32m      3\u001b[0m \u001b[0;34m\u001b[0m\u001b[0m\n\u001b[1;32m      4\u001b[0m \u001b[0;31m#Cria o objeto dt a partir da classe data\u001b[0m\u001b[0;34m\u001b[0m\u001b[0;34m\u001b[0m\u001b[0m\n\u001b[1;32m      5\u001b[0m \u001b[0mdt\u001b[0m \u001b[0;34m=\u001b[0m \u001b[0mdata\u001b[0m\u001b[0;34m(\u001b[0m\u001b[0;34m-\u001b[0m\u001b[0;36m8.104746\u001b[0m\u001b[0;34m,\u001b[0m \u001b[0;34m-\u001b[0m\u001b[0;36m34.927635\u001b[0m\u001b[0;34m)\u001b[0m\u001b[0;34m\u001b[0m\u001b[0m\n",
      "\u001b[0;32m~/baltar_datasci/baltar_met.py\u001b[0m in \u001b[0;36m<module>\u001b[0;34m()\u001b[0m\n\u001b[1;32m      3\u001b[0m \u001b[0;32mfrom\u001b[0m \u001b[0mselenium\u001b[0m \u001b[0;32mimport\u001b[0m \u001b[0mwebdriver\u001b[0m\u001b[0;34m\u001b[0m\u001b[0m\n\u001b[1;32m      4\u001b[0m \u001b[0;32mfrom\u001b[0m \u001b[0mselenium\u001b[0m\u001b[0;34m.\u001b[0m\u001b[0mwebdriver\u001b[0m\u001b[0;34m.\u001b[0m\u001b[0mcommon\u001b[0m\u001b[0;34m.\u001b[0m\u001b[0maction_chains\u001b[0m \u001b[0;32mimport\u001b[0m \u001b[0mActionChains\u001b[0m\u001b[0;34m\u001b[0m\u001b[0m\n\u001b[0;32m----> 5\u001b[0;31m \u001b[0;32mfrom\u001b[0m \u001b[0murllib3\u001b[0m\u001b[0;34m.\u001b[0m\u001b[0mrequest\u001b[0m \u001b[0;32mimport\u001b[0m \u001b[0murlopen\u001b[0m\u001b[0;34m\u001b[0m\u001b[0m\n\u001b[0m\u001b[1;32m      6\u001b[0m \u001b[0;32mimport\u001b[0m \u001b[0mjson\u001b[0m\u001b[0;34m\u001b[0m\u001b[0m\n\u001b[1;32m      7\u001b[0m \u001b[0;34m\u001b[0m\u001b[0m\n",
      "\u001b[0;31mImportError\u001b[0m: cannot import name 'urlopen'"
     ]
    }
   ],
   "source": [
    "\n",
    "from baltar_met import data\n",
    "\n",
    "#Cria o objeto dt a partir da classe data\n",
    "dt = data(-8.104746, -34.927635)"
   ]
  },
  {
   "cell_type": "markdown",
   "metadata": {},
   "source": [
    "## wazeScraping\n",
    "\n",
    "### Retorna\n",
    "- **severity**: Número de pontos congestionados por nível de congestionamento [1..4]"
   ]
  },
  {
   "cell_type": "code",
   "execution_count": null,
   "metadata": {},
   "outputs": [],
   "source": [
    "#Armazena o número de pontos congestionados\n",
    "trafic_severity = dt.wazeScraping()\n",
    "#Imprime na tela\n",
    "for i in range(0, len(trafic_severity)):\n",
    "    print(\"Grau {0} ->  {1} data points\".format(i+1, trafic_severity[i]))"
   ]
  },
  {
   "cell_type": "markdown",
   "metadata": {},
   "source": [
    "## clima\n",
    "\n",
    "### Retorna\n",
    "\n",
    "- dict{main, name, visibility, cod, weather, sys, dt, wind, coord, clouds, base, id}\n",
    "\n",
    "### Descrição:\n",
    "\n",
    "- **'main'**: dict{'pressure', 'temp_max', 'temp', 'temp_min', 'humidity'} \n",
    "- **'name'**: str\n",
    "- **'visibitility'**: int\n",
    "- **'cod'**: int (webcode)\n",
    "- **'weather'**: array(dict{'icon', 'description', 'id', 'main'})\n",
    "- **'sys'**: dict{'message', 'sunrise', 'sunset', 'country', 'type', 'id'}\n",
    "- **'dt'**: longInt\n",
    "- **'wind'**: dict{'speed', 'deg'}\n",
    "- **'coord'**: dict{'lon', 'lat'}\n",
    "- **'clouds'**: dict{'all'}\n",
    "- **'base'**: str\n",
    "- **'id'**: longInt"
   ]
  },
  {
   "cell_type": "code",
   "execution_count": null,
   "metadata": {},
   "outputs": [],
   "source": [
    "#Exemplo de utilização:\n",
    "\n",
    "#Armazena resposta do método\n",
    "weather_location = dt.clima()\n",
    "#Recupera a temperatura em Celsius\n",
    "temperatura = weather_location['main']['temp']\n",
    "print('Temperatura: {0} C'.format(temperatura))\n",
    "#Recupera as condições climáticas\n",
    "condicao = weather_location['weather'][0]['main']\n",
    "descricao = weather_location['weather'][0]['description']\n",
    "print('Condição Climática: '+condicao+ ' ('+descricao+')')"
   ]
  },
  {
   "cell_type": "code",
   "execution_count": null,
   "metadata": {},
   "outputs": [],
   "source": []
  }
 ],
 "metadata": {
  "kernelspec": {
   "display_name": "Python [conda env:baltar]",
   "language": "python",
   "name": "conda-env-baltar-py"
  },
  "language_info": {
   "codemirror_mode": {
    "name": "ipython",
    "version": 3
   },
   "file_extension": ".py",
   "mimetype": "text/x-python",
   "name": "python",
   "nbconvert_exporter": "python",
   "pygments_lexer": "ipython3",
   "version": "3.5.4"
  }
 },
 "nbformat": 4,
 "nbformat_minor": 2
}
