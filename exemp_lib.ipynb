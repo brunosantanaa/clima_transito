{
 "cells": [
  {
   "cell_type": "code",
   "execution_count": 3,
   "metadata": {},
   "outputs": [
    {
     "name": "stdout",
     "output_type": "stream",
     "text": [
      "https://www.waze.com/pt-BR/livemap?zoom=17&lat=-7.993960&lon=-34.840220\n",
      "Grau 1 ->  0 data points\n",
      "Grau 2 ->  1 data points\n",
      "Grau 3 ->  0 data points\n",
      "Grau 4 ->  0 data points\n"
     ]
    }
   ],
   "source": [
    "from baltar_met import data\n",
    "\n",
    "dt = data()\n",
    "\n",
    "severity = dt.wazeScraping(-7.99396,-34.84022)\n",
    "for i in range(0, len(severity)):\n",
    "    print(\"Grau {0} ->  {1} data points\".format(i+1, severity[i]))"
   ]
  },
  {
   "cell_type": "code",
   "execution_count": null,
   "metadata": {},
   "outputs": [],
   "source": []
  }
 ],
 "metadata": {
  "kernelspec": {
   "display_name": "Python [conda env:baltar]",
   "language": "python",
   "name": "conda-env-baltar-py"
  },
  "language_info": {
   "codemirror_mode": {
    "name": "ipython",
    "version": 3
   },
   "file_extension": ".py",
   "mimetype": "text/x-python",
   "name": "python",
   "nbconvert_exporter": "python",
   "pygments_lexer": "ipython3",
   "version": "3.5.4"
  }
 },
 "nbformat": 4,
 "nbformat_minor": 2
}
