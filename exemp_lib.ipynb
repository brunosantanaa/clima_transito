{
 "cells": [
  {
   "cell_type": "markdown",
   "metadata": {},
   "source": [
    "# BaltarTec - Testes de Bibliotecas\n",
    "\n",
    "Utilizaremos este notebook para testar e simular aplicações dos métodos desenvolvidos por nós. Descrever ao máximo as etapadas dos testes para que todos possam acompanhar o processo de criação.\n",
    "\n",
    "# Classes:\n",
    "\n",
    "## data\n",
    "\n",
    "#### Argumentos\n",
    "\n",
    "- **latitude**: Latitude do local a ser analizado\n",
    "- **longitude**: Latitude do local a ser analizado\n",
    "\n",
    "## Métodos:\n",
    "- [wazeScraping](#wazeScraping)\n",
    "- [clima](#clima)"
   ]
  },
  {
   "cell_type": "code",
   "execution_count": 1,
   "metadata": {},
   "outputs": [],
   "source": [
    "from baltar_met import data\n",
    "\n",
    "#Cria o objeto dt a partir da classe data\n",
    "dt = data(-8.055312, -34.897963)"
   ]
  },
  {
   "cell_type": "markdown",
   "metadata": {},
   "source": [
    "## wazeScraping\n",
    "\n",
    "### Retorna\n",
    "- **severity**: Número de pontos congestionados por nível de congestionamento [1..4]"
   ]
  },
  {
   "cell_type": "code",
   "execution_count": 2,
   "metadata": {},
   "outputs": [
    {
     "name": "stdout",
     "output_type": "stream",
     "text": [
      "https://www.waze.com/pt-BR/livemap?zoom=17&lat=-8.055312&lon=-34.897963\n",
      "Grau 1 ->  0 data points\n",
      "Grau 2 ->  1 data points\n",
      "Grau 3 ->  0 data points\n",
      "Grau 4 ->  0 data points\n"
     ]
    }
   ],
   "source": [
    "#Armazena o número de pontos congestionados\n",
    "trafic_severity = dt.wazeScraping()\n",
    "#Imprime na tela\n",
    "for i in range(0, len(trafic_severity)):\n",
    "    print(\"Grau {0} ->  {1} data points\".format(i+1, trafic_severity[i]))"
   ]
  },
  {
   "cell_type": "markdown",
   "metadata": {},
   "source": [
    "## clima\n",
    "\n",
    "### Retorna\n",
    "\n",
    "- dict{main, name, visibility, cod, weather, sys, dt, wind, coord, clouds, base, id}\n",
    "\n",
    "### Descrição:\n",
    "\n",
    "- **'main'**: dict{'pressure', 'temp_max', 'temp', 'temp_min', 'humidity'} \n",
    "- **'name'**: str\n",
    "- **'visibitility'**: int\n",
    "- **'cod'**: int (webcode)\n",
    "- **'weather'**: array(dict{'icon', 'description', 'id', 'main'})\n",
    "- **'sys'**: dict{'message', 'sunrise', 'sunset', 'country', 'type', 'id'}\n",
    "- **'dt'**: longInt\n",
    "- **'wind'**: dict{'speed', 'deg'}\n",
    "- **'coord'**: dict{'lon', 'lat'}\n",
    "- **'clouds'**: dict{'all'}\n",
    "- **'base'**: str\n",
    "- **'id'**: longInt"
   ]
  },
  {
   "cell_type": "code",
   "execution_count": 8,
   "metadata": {},
   "outputs": [
    {
     "name": "stdout",
     "output_type": "stream",
     "text": [
      "Temperatura: 27 C\n",
      "Condição Climática: Clouds (broken clouds)\n"
     ]
    }
   ],
   "source": [
    "#Exemplo de utilização:\n",
    "\n",
    "#Armazena resposta do método\n",
    "weather_location = dt.clima()\n",
    "#Recupera a temperatura em Celsius\n",
    "temperatura = weather_location['main']['temp']\n",
    "print('Temperatura: {0} C'.format(temperatura))\n",
    "#Recupera as condições climáticas\n",
    "condicao = weather_location['weather'][0]['main']\n",
    "descricao = weather_location['weather'][0]['description']\n",
    "print('Condição Climática: '+condicao+ ' ('+descricao+')')"
   ]
  },
  {
   "cell_type": "code",
   "execution_count": null,
   "metadata": {},
   "outputs": [],
   "source": []
  }
 ],
 "metadata": {
  "kernelspec": {
   "display_name": "Python [conda env:baltar]",
   "language": "python",
   "name": "conda-env-baltar-py"
  },
  "language_info": {
   "codemirror_mode": {
    "name": "ipython",
    "version": 3
   },
   "file_extension": ".py",
   "mimetype": "text/x-python",
   "name": "python",
   "nbconvert_exporter": "python",
   "pygments_lexer": "ipython3",
   "version": "3.5.4"
  }
 },
 "nbformat": 4,
 "nbformat_minor": 2
}
